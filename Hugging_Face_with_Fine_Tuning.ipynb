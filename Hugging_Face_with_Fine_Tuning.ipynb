{
 "cells": [
  {
   "cell_type": "code",
   "execution_count": null,
   "metadata": {
    "colab": {
     "base_uri": "https://localhost:8080/"
    },
    "id": "Qe3tU9YIzx0b",
    "outputId": "1ec14665-4fa9-4951-bb11-225ed4b2bbd7"
   },
   "outputs": [],
   "source": [
    "!pip install langchain huggingface_hub openai transformers"
   ]
  },
  {
   "cell_type": "code",
   "execution_count": null,
   "metadata": {
    "colab": {
     "base_uri": "https://localhost:8080/"
    },
    "id": "bpEKyVMFz75U",
    "outputId": "c0fa4dd1-f4cb-4d37-8392-be9f561af633"
   },
   "outputs": [],
   "source": [
    "!pip install langchain_community\n",
    "from langchain import PromptTemplate , HuggingFaceHub , LLMChain"
   ]
  },
  {
   "cell_type": "code",
   "execution_count": null,
   "metadata": {
    "colab": {
     "base_uri": "https://localhost:8080/"
    },
    "id": "_R2iTvkJZUB6",
    "outputId": "b650ab3f-6ee4-485c-941a-f09788176df2"
   },
   "outputs": [],
   "source": [
    "pip install transformers"
   ]
  },
  {
   "cell_type": "code",
   "execution_count": null,
   "metadata": {
    "id": "iWlcgqxTZUFx"
   },
   "outputs": [],
   "source": [
    "from transformers import AutoTokenizer,TFAutoModelForSequenceClassification, AutoModelForSeq2SeqLM,AutoModelForSequenceClassification\n",
    "import tensorflow as tf\n",
    "import numpy as np"
   ]
  },
  {
   "cell_type": "code",
   "execution_count": null,
   "metadata": {
    "colab": {
     "base_uri": "https://localhost:8080/",
     "height": 274,
     "referenced_widgets": [
      "5f8bbd2e90f445e9998d6b3b9dfd6ead",
      "5dbfa5a390e64a16b646616044f98623",
      "0ae1ecff28f343c9ab0449728d7389d4",
      "0746b9b9a4c049f3947fa1fcaa637b32",
      "b852b96f08a349dba339476da5449a1b",
      "312572f908a64ef9ba5c91dce150536b",
      "38689de55ede4d449baadcb34e893778",
      "3177773255614d088449f8aa3b427e64",
      "6d89dbbbc0fe48bfb6064485fca7a63b",
      "313864f87c4f47e598070be6682a173b",
      "d34d8510b2a144b788926c6b6ad4a5f2",
      "f878b04bcadc431e9fea58f12bf419cb",
      "d0f376997b2b4635946c995e9b91b234",
      "efb67edbd09e4e76a38f3a4b6fc31a83",
      "32e3781164094b0789bcde75fee85555",
      "2ec842d4b787471f91d5effa8e9a8ccc",
      "46b3e51896584dcc8ff4c64a1cc4bd48",
      "1d4d8e2decda4f4391532d0e44d9fb50",
      "c4de7c95e44f4bdfb1f23f43405ce952",
      "26463572d7944211bb291cfdc5536c24",
      "e5fa9a423e374c3bb29eaa4129822e39",
      "f30ab37f73b04e0ebde70c9b926803d9",
      "0e2f642258ec493089988d04ed8ab05f",
      "87949412152543cab6d467df55c290a8",
      "d26d4f37a5064549b5e27c4500fd2dce",
      "236359a3b0ba44138c6be88a05bff64f",
      "ad97794a589748fd9b547522cfab518d",
      "2e46b341f1bc401c8222eced7fe7622a",
      "f6fe504a024a43e1a1aa5dc7d5a9179e",
      "e992a9805e3a4fdcb59bc9a8b2e106eb",
      "aa03028835004aa58a855ce32476a3dd",
      "41ba1cbb71a04f09b2d274dfaea92949",
      "e4444ec42b0643c3a60b4548fc6b9333",
      "288fe02ba6394b679ee14634ca557c07",
      "abb0c56ed9bc4b7489405b6ed00a532f",
      "3a2cdd484472422797ef0621d4cd8927",
      "710ee9e1189f4e0185a6293650e9bf62",
      "037fcb29187342f888ff97e081db1e4f",
      "45c635e5d023404c9a3535b112d44404",
      "33cf2ae0919e44ce81b8d7845448a9bf",
      "46a5dba1f9a24298af761b424f4d8eef",
      "d6e26b4aad36498e9decb3f841f7dc46",
      "89a5a24e27af4f06b13ff86f4256ceae",
      "0ef9424337784a4f9261ab5b4da88a57"
     ]
    },
    "id": "IAuLgV9lZUH-",
    "outputId": "a88498a4-b707-4af5-dce3-d261519bc1c2"
   },
   "outputs": [],
   "source": [
    "model_name = \"distilbert-base-uncased-finetuned-sst-2-english\"\n",
    "tokenizer = AutoTokenizer.from_pretrained(model_name)\n",
    "model = TFAutoModelForSequenceClassification.from_pretrained(model_name)"
   ]
  },
  {
   "cell_type": "code",
   "execution_count": null,
   "metadata": {
    "id": "Ab7vhs0kZUKa"
   },
   "outputs": [],
   "source": [
    "text = \"i love all the feature provided by AI\""
   ]
  },
  {
   "cell_type": "code",
   "execution_count": null,
   "metadata": {
    "id": "DwJGBKJpZUND"
   },
   "outputs": [],
   "source": [
    "input = tokenizer(text , return_tensors='tf')"
   ]
  },
  {
   "cell_type": "code",
   "execution_count": null,
   "metadata": {
    "id": "dzUd6ioPZUPb"
   },
   "outputs": [],
   "source": [
    "output = model(**input)"
   ]
  },
  {
   "cell_type": "code",
   "execution_count": null,
   "metadata": {
    "id": "ufcaatjjZUR9"
   },
   "outputs": [],
   "source": [
    "prob = tf.nn.softmax(output.logits,axis=-1).numpy()[0]"
   ]
  },
  {
   "cell_type": "code",
   "execution_count": null,
   "metadata": {
    "colab": {
     "base_uri": "https://localhost:8080/",
     "height": 36
    },
    "id": "jnAW-GF9ZUUk",
    "outputId": "af0e2da7-e545-4c06-e21e-1f9e6516b5af"
   },
   "outputs": [],
   "source": [
    "predict_class_id = np.argmax(prob)\n",
    "model.config.id2label[predict_class_id]"
   ]
  },
  {
   "cell_type": "markdown",
   "metadata": {
    "id": "nno0Vmwfm4dx"
   },
   "source": [
    "Language translation model"
   ]
  },
  {
   "cell_type": "code",
   "execution_count": null,
   "metadata": {
    "colab": {
     "base_uri": "https://localhost:8080/",
     "height": 273,
     "referenced_widgets": [
      "e8a13237bc044ee48bbbba83c2d3347c",
      "72192118cb14444a8fbbb1853649e36f",
      "e4f580d6b65d433c8f450cf628de261e",
      "096572836b2444b8b4f3a115e19179ac",
      "a2ba027ddc4c4901bd429f97e04f0ba3",
      "67976181e930424188ced1df6a013f06",
      "46b894b809ef431d8100abb659077b1f",
      "7f90e8bf81454d92879e7f01fbbe80bb",
      "7073d42aba3d46828f52f2d80ff2a49a",
      "2b98173e89a14dc9b8d733dec027883b",
      "5d9f767d96cd4a15b02ea58290df889d",
      "86ae0b858ce44229ad37b5c172a54851",
      "258f79a9350144ef85c4a7cb5e88a4e9",
      "f44bfcf306c843689b7a898b327b5d94",
      "577a0dac08b44f149d003f779ebe1c34",
      "9653ed6ab28f41499faad1eb88d2b992",
      "96328742cfc7418b9248d85b9a3e37ad",
      "e6918decfdb3441f9646e4f85b85837f",
      "1a5dadd711d544178012a59e924a04e5",
      "48f8e97df004459d954196c4dbf33994",
      "6aad48d791c647afa5d55364e1b9c669",
      "1288a88ef7744a29b5876c06d4b616a7",
      "8f385e66b1cb44fca5dd48fb58b6b9ba",
      "1a6979d3c9eb45ecabb74ca210a4f72d",
      "f74b694a45d44ef683f24c839250c71a",
      "00bc1aa8d86f440e9c1e0df2fccf5e26",
      "4e9ade0ea5094de6b6fccd929361a505",
      "2b7d45bee42d465bab22dca99e82f00b",
      "7b69275e03d54af68321b5021c62a1bc",
      "ce9e208277a54598b488fdf8f74990a9",
      "f83e476d17114fb987ead09f2baf4890",
      "4695b84328694526b709b8e6747a32fe",
      "6f5e9f537dc64e0da6ec259c7c1a68d8",
      "cc8528e3ee0a4fb184de19ba04b78997",
      "c848591963314f1facd0734a4be78fef",
      "230bc73e22b14a5caabf13a55cbe93a0",
      "56ae84acc499404ca829be43fadc236f",
      "9924d92c9d614024b4c6d858acf73bab",
      "e2fe085ac37f47749fc902dae04e095e",
      "7acd3006397340b5a27d9bdd669d38e1",
      "f595230bc72845d2b1f98a2baad6209d",
      "4b1fa78e615349be889a9ebe2f94360a",
      "5b2e2735c64b4339ac0eece47c0c5338",
      "643889336d534d05815b4c291125c896",
      "aed8d96f1c1849e4a68ecfd123565079",
      "f48f885b15c9479c9d76163f554b768f",
      "498dc7c2eb744b40979f92a79d93fe36",
      "7dd28e797b9a43cb916ccf9585510b1c",
      "00df55474142403f8a1e9e3edb1d9cfd",
      "c19f693fbffa4ad88716dd4764be54b0",
      "ca7da88495294debb273deed715e9aa9",
      "e78ff78ae3c049eeb1cac62fb1137d2f",
      "96e00b3d5b53433086411584f8f21223",
      "776c84dc955a4f5a8e08517945d4cb4a",
      "571289de644147e9835b32bf99f1ccbe",
      "987982ce18bd42f79cd6274428982735",
      "e4d6bb7f51304388b792b5c2d39e1821",
      "3cf35cbefa1e4e5d8dc5b9d950e1f02c",
      "1f5cd4f0fcba486e80137cf1a3bb1beb",
      "7435e63b15f64dc2a6e0be42d1be4f20",
      "4c184a183f8b47e5be48f467a7bd53e7",
      "979bac02325a4e39abccfb3f3a6733f7",
      "f29d40f57d8b48fa90fb5827018db088",
      "90ef576c78bd46eda34d5f0dbc1fb8a4",
      "37e63ec1efa940f4957cc58a785cd6ef",
      "1339ce360db64464bd0865463388db98",
      "92e9aef80a204fd19b32634f62a62dd5",
      "d6fa08737b724f1993d307d9f1c7c2b0",
      "d935e6b5c1504edcb168038e7faad5a0",
      "7c732685c48b4c3b923ef4af45d2eaab",
      "18612b5be7c14b5d89e87f926ef6b4ce",
      "c8023131cd8147c4b6800ef7b370c276",
      "ac99b6d9971847c885ad5997945e9970",
      "ed32264f9f4e421aad05b7a38a0e6240",
      "faf15f68a1d44994be6f14c8ea630ec8",
      "482a6e2b6ecc47028b88dbc8d6243c09",
      "185327f44683489aa13d44d8093d6ddd",
      "0c1b5006564c48759ee8bf8c116e774e",
      "5e584427fb284bcd86d1cd97c0a8a82b",
      "2a227c6b4a61491bbe999909950feaae",
      "f26387e0fb3e49469cabd70b344efaab",
      "6997f2390d114074b4c32d75eda11198",
      "62e23e0ef4594debaced160bcd928df2",
      "4a4a67c4b72f46038dc37da3377c1abe",
      "35546a11aff840f0a6fa6eaf70a0e571",
      "bdb0c2483492478989e3e03e13da4686",
      "6f59fdf1659641aeb5c2e4639b4eb7f2",
      "c01da115960f433a9350d731c13c4f45"
     ]
    },
    "id": "FM9SPjCRlL43",
    "outputId": "9b7fc68d-0618-4bf6-ba32-f7023dfb1736"
   },
   "outputs": [],
   "source": [
    "tokenizer = AutoTokenizer.from_pretrained(\"facebook/nllb-200-distilled-600M\")\n",
    "model = AutoModelForSeq2SeqLM.from_pretrained(\"facebook/nllb-200-distilled-600M\")"
   ]
  },
  {
   "cell_type": "code",
   "execution_count": null,
   "metadata": {
    "id": "jKSY_oAyZUW9"
   },
   "outputs": [],
   "source": [
    "input_text  = \"my name is dev , i use to learn data science\"\n",
    "tokenizer.src_lang = \"eng_Latn\"\n",
    "encoded  = tokenizer(input_text,return_tensors='pt')"
   ]
  },
  {
   "cell_type": "code",
   "execution_count": null,
   "metadata": {
    "id": "0VcDw_3PZUZe"
   },
   "outputs": [],
   "source": [
    "output = model.generate(**encoded,forced_bos_token_id = tokenizer.convert_tokens_to_ids(\"hin_Deva\"))"
   ]
  },
  {
   "cell_type": "code",
   "execution_count": null,
   "metadata": {
    "id": "ZrKaJF4YZUc2"
   },
   "outputs": [],
   "source": [
    "output_text = tokenizer.batch_decode(output,skip_special_tokens=True)"
   ]
  },
  {
   "cell_type": "code",
   "execution_count": null,
   "metadata": {
    "colab": {
     "base_uri": "https://localhost:8080/"
    },
    "id": "g2_xR4yVZUf0",
    "outputId": "5ca22716-f608-4318-ac59-079d16b9e30b"
   },
   "outputs": [],
   "source": [
    "output_text"
   ]
  },
  {
   "cell_type": "code",
   "execution_count": null,
   "metadata": {
    "colab": {
     "base_uri": "https://localhost:8080/",
     "height": 1000
    },
    "id": "y8uFpk6JZUir",
    "outputId": "dd95f366-159d-49b2-c475-ddcff6a41c0d"
   },
   "outputs": [],
   "source": [
    "pip install datasets"
   ]
  },
  {
   "cell_type": "markdown",
   "metadata": {
    "id": "hifHyhqXnii5"
   },
   "source": [
    "Fine tuning a Model on our own dataset so we are fine tuning a dataset on imdb dataset"
   ]
  },
  {
   "cell_type": "code",
   "execution_count": null,
   "metadata": {
    "colab": {
     "base_uri": "https://localhost:8080/",
     "height": 241,
     "referenced_widgets": [
      "61047c28cd584e9fbd72f88f18107cb6",
      "22e673ac7c1549a6ac1bc14c2ca5f33d",
      "68beec95cd974a1f8743e622e3e119a8",
      "375448ae0bee48f2aa6bbe6daadecb28",
      "d718937534c64f4998d0f4b815a643b0",
      "eff727db6a7548f9823b24594d1311bd",
      "7d4d8a048d9f48528ed2790a20153509",
      "1dba3e58f820461ba1975c52e1fd1dff",
      "ac189fa48d4d4fcb86a56b28a6b2a5a4",
      "29d0a874a59a46c39d1ff000c345c6b9",
      "ebb41cdccfe242c0b645eb9fa2fe57a3",
      "d29d1a756aef4261a2838287cacd2a8c",
      "4734aaf8f227415883cd815a0cc8b698",
      "61ddb6b33f8d4b7992a374faa9c31295",
      "35b9f21c1e2a4e4db38a01594d5c3974",
      "00d61a59cd034bc385c969150d4b99ae",
      "4631e16e74374221b7291311238cc312",
      "c3255b6695e640529c39c43ed55d6305",
      "c4312f5086dc41c2b2e8b47b764bbf9a",
      "8e78e28ca95e4af7bd3daaa3e0c86ee9",
      "5c65579e6a0a408fa7f9f6e765749adb",
      "25769c6d048f4765ad22e7dcfa57b9d0",
      "b4e1ba103c014190af90b76975813759",
      "ca4ca5b2157d4a1d9deeef97b202c16f",
      "5fabbe4e660a4a3985134d291d023f97",
      "05e2924d1059437a8d8481e2e1b76c3d",
      "7b2b1282bf1f4b2799c3ca5b0548373c",
      "a39c77f528d2407d959aaca64195e45b",
      "c28013610feb4a15901c44425df5c9f5",
      "5bec652708b84fb4b7856b7a9b80728c",
      "8964fb41004a444fa7be15b3bcc05089",
      "7afd64d0317d4752bca3e4112a181bbe",
      "27ab3fb2232a4d298b597f08dc5f7925",
      "9b789108517543b9a111aea3cbec5dc7",
      "813a90b761dd42e3919cc61579cb1f51",
      "85662aef9dbc48588bc98f700b8663a8",
      "43de90a8e1af430a87fba3b219d45ff1",
      "506d88b6c92649a1929f8f2b63efb3c1",
      "2792b12f648046d6b368079dcb09a79a",
      "aa01889c5d0c4ce3afb2fec2b0ec6b52",
      "9628b9addc5f435982d7c821c89e58b1",
      "73558be2cb4b43198d0abeef19d0c196",
      "cb4804cb3df244638cf9441a6eb4c261",
      "4d1a2dbb65a1447b85f4f56a7048ac0f",
      "cd9f6565cf504bb4809f7ccef6a0a12d",
      "04aacb2237cf46b8ab0ed990ab6ab79f",
      "4579e82e91e24c60ba0c4ed4fcc5c8fd",
      "581c26c4f57e4909b3a120a9b5d3f4b4",
      "a5533772551f47c79dd61f469d349741",
      "960fcb97017741d8847f0b5d95374d93",
      "f341ded412a947179933af5c17955819",
      "29d6c524783a4808b58cefab453ef969",
      "dce11de1e9b4431786cf45d63824f4a4",
      "d9d95ed82308479fbfe57a4ebb77e489",
      "63d4670375884302bc3910bc3945e72f",
      "69d7dee2357f4155bee2a1f1411f1d16",
      "af79e59c8bec49e295c5a127c87c5965",
      "0db78428fb0c4cfd87c0a984806c66b8",
      "159b43ae0e344e8c83ffa995c10e3161",
      "d9113cd9c34c4ee4bfb9d37734cc1302",
      "f3f13cb4ead442dc914edcf5e657c31e",
      "abdff6eafe134afd916f098e793ed398",
      "2b2b1d15ca3d40ed91e5a93be984b95e",
      "797795bad13e45039ebd59d157cda34c",
      "f33458687e194a9e86f5abcb34c0e484",
      "a90c972220d94a939fc6d7043bca700e",
      "0de60d55408444b28649a2b8633a2a52",
      "0cb15cf33b9b4c4e9375381de5b4d1a4",
      "e628c608e3b14e5eb354c4642231cfee",
      "60cc9827eab94b3491caf0d8f7e40d58",
      "9410b52077c34277b943decc7c616c01",
      "7f1f0198847945a58ca4d8a7251426fa",
      "c1cafc6d7572426e851af615a3a239ff",
      "598bb917e9e44960806b39d43432a709",
      "cf39ea093cff451da2deb125d11fdfc1",
      "49533c9f52064bef9458122c89cf4584",
      "5b33399124b0475db123bab1db1a17f5"
     ]
    },
    "id": "Vr5EQEa0ZUmk",
    "outputId": "802ae8a2-38d0-4b88-e1ac-2f9d499f059b"
   },
   "outputs": [],
   "source": [
    "from datasets import load_dataset\n",
    "dataset = load_dataset('imdb')"
   ]
  },
  {
   "cell_type": "code",
   "execution_count": null,
   "metadata": {
    "colab": {
     "base_uri": "https://localhost:8080/"
    },
    "id": "0UwsoplKY1vB",
    "outputId": "62feb36c-7950-491c-b0ed-363b4930680d"
   },
   "outputs": [],
   "source": [
    "dataset"
   ]
  },
  {
   "cell_type": "code",
   "execution_count": null,
   "metadata": {
    "colab": {
     "base_uri": "https://localhost:8080/"
    },
    "id": "zvK_VZvTY4Y3",
    "outputId": "55b7e5fc-153c-4f7d-ffbb-677248bc2bec"
   },
   "outputs": [],
   "source": [
    "dataset[\"train\"]"
   ]
  },
  {
   "cell_type": "code",
   "execution_count": null,
   "metadata": {
    "colab": {
     "base_uri": "https://localhost:8080/"
    },
    "id": "NjvB5YdxY7M5",
    "outputId": "6aa2ad5e-fa3d-4d67-9ffa-5573e13d9965"
   },
   "outputs": [],
   "source": [
    "dataset[\"train\"][0]"
   ]
  },
  {
   "cell_type": "code",
   "execution_count": null,
   "metadata": {
    "id": "0yKGkawUZUpc"
   },
   "outputs": [],
   "source": [
    "from transformers import TrainingArguments , Trainer"
   ]
  },
  {
   "cell_type": "code",
   "execution_count": null,
   "metadata": {
    "colab": {
     "base_uri": "https://localhost:8080/",
     "height": 145,
     "referenced_widgets": [
      "dcd756aa9839467db834fff959504978",
      "5296da9ed2614665bdc2a333da3776fe",
      "0f46994ccffc419b9fcd77cc9dbd7603",
      "23d60d36d808481ca5c91466ee999a15",
      "5d25bd6cd01e454eb1e35ce16a94df77",
      "caf23d1225a94030a1627e60ae8859db",
      "9f942155164346e1bf0e06fd092690f1",
      "de77f526d1bd40c2958b35d8ae31ecd1",
      "3724c256e21d40d1bbe0ef98c1f1a8a6",
      "71493ff0471144e889b6a6d029fb3d11",
      "cc3c61326edc45528e5480d9b397a646",
      "fa0f9ee6816c499b910f942dba701237",
      "cc52790f4ba14f0ba853d9a321d78e75",
      "faba23a649934697ad6ca7ca80a94b99",
      "a496a3576d6946a4b4672bc3a35579b9",
      "8b9ad55977b94daaa7d8e43a4025b492",
      "50557c81254843b99f4f011964c8629a",
      "251919ba3ad545bab63797949618b7ec",
      "472a4a1b9be04d72a87f453d06775fdd",
      "7c91a8ff540146da8a4bafef80c56add",
      "b62c0bd051e44549b4d97a5d06775984",
      "c768378008934b9aa8a53d98b8312413",
      "9ad7a328bfe9482eab643c4fc31b1790",
      "5116e7d6fdb34fadbc79759f39819fbd",
      "5b71d771d56c4fc0a2016f96db6d47b0",
      "50e12801f8dc4b969af55ccd03cd8ced",
      "2da555cfadaa4277ada88d1537ce8d9c",
      "642ebddccf7f44b288929cdc6b9a7c13",
      "54a521cb35fb4565b25c14c5fb2c3080",
      "2fb19cdbea88409aaab244b240848945",
      "bec01d95ea754441b18c43fea914db4d",
      "dc0c2377bbc141c394c8e1f25b9fd05e",
      "c154addd933b41f49b39fa7bf7d382a4",
      "7d0ecf705fdf4f26be4e8b2a97bf9158",
      "8071a43fad5e49a7a09eb4c610bd1367",
      "bf1d18062a2c45768a3ddb2307123841",
      "dff85d5d16ad4fd2a0be8d3e045de270",
      "9f6b5145916d481b821047c217a25493",
      "426a1da0cf5449ac8daa06878e2538d4",
      "a4370926a380445a9c5aa57bf25dadff",
      "5a609936886e4e65a965dd82a922089a",
      "1aea2c6244ac464baf1702c979802155",
      "1464690dc11f409ba5b6299ca9a2f79b",
      "2a8c6265b4f2414a9a057ce595cbdf6a"
     ]
    },
    "id": "InXZvyfPZL3C",
    "outputId": "0eba46c3-ceb7-4a5e-f8af-1b8e652d2c44"
   },
   "outputs": [],
   "source": [
    "model_checkpoint = \"distilbert-base-uncased\"\n",
    "tokenizer= AutoTokenizer.from_pretrained(model_checkpoint)"
   ]
  },
  {
   "cell_type": "code",
   "execution_count": null,
   "metadata": {
    "id": "TQv_Uaw6ZL8p"
   },
   "outputs": [],
   "source": [
    "def tokenizer_func(data):\n",
    "  return tokenizer(data['text'],padding=True,truncation=True)"
   ]
  },
  {
   "cell_type": "code",
   "execution_count": null,
   "metadata": {
    "colab": {
     "base_uri": "https://localhost:8080/",
     "height": 113,
     "referenced_widgets": [
      "7b03d8fdfacd4c58ac1e47ade8c71f92",
      "f7204d27a31b4da89a851700f12747ca",
      "818158b57c034f0e8b3bd89c90025b21",
      "6bb362f2b12d43f18c0197103baee85e",
      "ecc9d0ca1dff474c96a1930b8d87fa70",
      "6c19220dae0c4a6bb052fde0cafd4400",
      "0114e9bc08fc4c32963975781dcedbdc",
      "28203ef3658441ff8b9535fe0ca00b75",
      "4dd9e2049acc47d1addde5ad0c0af65d",
      "eebc7d1616b84394b89a330701de9ecd",
      "0ea04ddbdef041c994e4d1b768097c95",
      "9745584831164cdcab30a91469846b36",
      "661ed4abf87c40979f36fe925af40fe1",
      "307ede33aca741f68429396933cce383",
      "0e35101803a5473195a167891cc9510a",
      "441aeef2c17448fd9a2b795e960b5b37",
      "38355bcfce0e41bfa5f940b0fffb496c",
      "cddc6b5a4db643fd84bc745fd89a8b5d",
      "d1421f130947442e864ca3d3e2d1f5e9",
      "2b7b0617c8e941209cf84730540b9272",
      "e9855766f86e4df9b4b8ea3c3a5804c1",
      "54cbbb7852e047e289e39e08e542ccef",
      "1125999a62854079b329b4ed8a372b89",
      "923135b650484530a96d31c47b36cbc0",
      "f60e479053d34a828f3a1340bf386a21",
      "c00b712e81d24202b69284c2bbcbfb34",
      "e41d760788ae4802ae3336438be23974",
      "c2a9212ab8ea4fb79e9de315196f378c",
      "340b63e08c2f4d62ba02954e63d5a6e2",
      "853a2d6f3bdd41609c25e04214ed0817",
      "cad65356fd224c128f0481304434b71b",
      "e6f482a864454cf7a3987e23b530727e",
      "7f2831b625634375adf21b4b0dcf7970"
     ]
    },
    "id": "5inmT1i8ZpWN",
    "outputId": "6a88e1c1-12cb-41d4-c66f-3418dcee8f98"
   },
   "outputs": [],
   "source": [
    "tokenized_dataset=dataset.map(tokenizer_func,batched=True)"
   ]
  },
  {
   "cell_type": "code",
   "execution_count": null,
   "metadata": {
    "colab": {
     "base_uri": "https://localhost:8080/"
    },
    "id": "hzVnIcZ_Z4Q_",
    "outputId": "5da88f10-88c6-418b-a28d-e368bd040966"
   },
   "outputs": [],
   "source": [
    "tokenized_dataset"
   ]
  },
  {
   "cell_type": "markdown",
   "metadata": {
    "id": "GiO1BUHad4n-"
   },
   "source": []
  },
  {
   "cell_type": "code",
   "execution_count": null,
   "metadata": {
    "id": "BEoybApNayp7"
   },
   "outputs": [],
   "source": []
  },
  {
   "cell_type": "markdown",
   "metadata": {
    "id": "vRXi0cwSaKmj"
   },
   "source": [
    "Model will not be able to understand text also we have got input_ids for it input_labels we can use and attention_mak also attention_mask is of length 512 as no sentence can be greater than 512 length and labels are in numerical so we can include them in training"
   ]
  },
  {
   "cell_type": "code",
   "execution_count": null,
   "metadata": {
    "colab": {
     "base_uri": "https://localhost:8080/"
    },
    "id": "knYT3u5yaWwW",
    "outputId": "59a138fa-30af-4d07-a681-42fe61577fee"
   },
   "outputs": [],
   "source": [
    "len(tokenized_dataset[\"train\"][0][\"attention_mask\"])"
   ]
  },
  {
   "cell_type": "markdown",
   "metadata": {
    "id": "sKmlwn42bFct"
   },
   "source": [
    "As you can consider below first sentence is containing 288 words and second sentence is containing 214"
   ]
  },
  {
   "cell_type": "code",
   "execution_count": null,
   "metadata": {
    "colab": {
     "base_uri": "https://localhost:8080/"
    },
    "id": "6OL-mldUa87L",
    "outputId": "be5dd688-f52c-407b-b516-e386c26808be"
   },
   "outputs": [],
   "source": [
    "len(tokenized_dataset[\"train\"][0][\"text\"].split())"
   ]
  },
  {
   "cell_type": "code",
   "execution_count": null,
   "metadata": {
    "colab": {
     "base_uri": "https://localhost:8080/"
    },
    "id": "zpn1TyfSaqru",
    "outputId": "95a53d29-1325-463d-971d-e4e7efa51bc9"
   },
   "outputs": [],
   "source": [
    "len(tokenized_dataset[\"train\"][1][\"text\"].split())"
   ]
  },
  {
   "cell_type": "code",
   "execution_count": null,
   "metadata": {
    "id": "r5puZc6SbVNe"
   },
   "outputs": [],
   "source": [
    "tokenized_dataset= tokenized_dataset.remove_columns([\"text\"])"
   ]
  },
  {
   "cell_type": "code",
   "execution_count": null,
   "metadata": {
    "colab": {
     "base_uri": "https://localhost:8080/"
    },
    "id": "x-2YXkjubbcU",
    "outputId": "c733e324-9f38-4871-b914-8ab93daec185"
   },
   "outputs": [],
   "source": [
    "tokenized_dataset"
   ]
  },
  {
   "cell_type": "code",
   "execution_count": null,
   "metadata": {
    "id": "b9bPsPxmbexC"
   },
   "outputs": [],
   "source": [
    "tokenized_dataset.set_format(\"torch\")"
   ]
  },
  {
   "cell_type": "code",
   "execution_count": null,
   "metadata": {
    "colab": {
     "base_uri": "https://localhost:8080/"
    },
    "id": "v7U37DkWbkU0",
    "outputId": "5f7b49fc-1b6a-4191-cdfc-6b8c97882713"
   },
   "outputs": [],
   "source": [
    "tokenized_dataset[\"train\"].column_names"
   ]
  },
  {
   "cell_type": "code",
   "execution_count": null,
   "metadata": {
    "id": "Cc7udrZxbn4y"
   },
   "outputs": [],
   "source": [
    "tokenized_dataset= tokenized_dataset.rename_column(\"label\",\"labels\")"
   ]
  },
  {
   "cell_type": "code",
   "execution_count": null,
   "metadata": {
    "colab": {
     "base_uri": "https://localhost:8080/",
     "height": 141,
     "referenced_widgets": [
      "3a4d05631b2b4d82a0ead349deed5bb1",
      "a85853ef7028466092bfcae07898e426",
      "fef5d4af9e6b4bd7b182b212ee358f92",
      "a818fe7b346e465c99b0bce442011d06",
      "67c292e1a06a4d7c9063fe2a36d45384",
      "8199371af22347efbb0a775c6f6b3abc",
      "e9f2d8ad499f4fb4bf55808d15c34898",
      "499d7c7c9e0540aa9b71f17838454956",
      "5ba08b1ca1954dcc8daeb05ab8c1baef",
      "3bac897ffb76409eacf66f72899d7942",
      "35cc5c7c6d9346e4a0a3e7d9548625c3"
     ]
    },
    "id": "G7n0nT8Aoorr",
    "outputId": "104ffe5e-1630-49b6-f452-586d4a4f7df0"
   },
   "outputs": [],
   "source": [
    "model = AutoModelForSequenceClassification.from_pretrained(model_checkpoint,num_labels = 2 )"
   ]
  },
  {
   "cell_type": "code",
   "execution_count": null,
   "metadata": {
    "id": "_KCd52dtoovl"
   },
   "outputs": [],
   "source": [
    "from transformers import TrainingArguments , Trainer"
   ]
  },
  {
   "cell_type": "code",
   "execution_count": null,
   "metadata": {
    "id": "GaafAqPScUFK"
   },
   "outputs": [],
   "source": [
    "training_args = TrainingArguments(\n",
    "    output_dir=\"./result\",\n",
    "    eval_strategy=\"epoch\",\n",
    "    save_strategy='epoch',\n",
    "    learning_rate=2e-5,\n",
    "    per_device_train_batch_size=8,\n",
    "    per_device_eval_batch_size=8,\n",
    "    num_train_epochs=2,\n",
    "    weight_decay=.01\n",
    ")"
   ]
  },
  {
   "cell_type": "code",
   "execution_count": null,
   "metadata": {
    "id": "6GffBFF8dbHB"
   },
   "outputs": [],
   "source": [
    "from google.colab import userdata"
   ]
  },
  {
   "cell_type": "code",
   "execution_count": null,
   "metadata": {
    "id": "ZG7UQ5hVdVHA"
   },
   "outputs": [],
   "source": [
    "import os\n",
    "os.environ['HUGGINGFACEHUB_API_TOKEN'] = userdata.get('HF_TOKEN')"
   ]
  },
  {
   "cell_type": "code",
   "execution_count": null,
   "metadata": {
    "colab": {
     "base_uri": "https://localhost:8080/",
     "height": 424
    },
    "id": "5i1V4zwfooxo",
    "outputId": "7cc8f226-6d5e-4dd4-a72d-2b1fe7c5a230"
   },
   "outputs": [],
   "source": [
    "trainer = Trainer(model=model,\n",
    "        args = training_args,\n",
    "        train_dataset=tokenized_dataset['train'].select(range(100)),\n",
    "        eval_dataset=tokenized_dataset['test'].select(range(100))\n",
    "        )\n",
    "\n",
    "trainer.train()"
   ]
  },
  {
   "cell_type": "code",
   "execution_count": null,
   "metadata": {
    "id": "OPsM6CxOoo24"
   },
   "outputs": [],
   "source": []
  },
  {
   "cell_type": "code",
   "execution_count": null,
   "metadata": {
    "id": "4_tRMr8qoo9R"
   },
   "outputs": [],
   "source": []
  },
  {
   "cell_type": "code",
   "execution_count": null,
   "metadata": {
    "id": "jSGUY4TlopCz"
   },
   "outputs": [],
   "source": []
  },
  {
   "cell_type": "code",
   "execution_count": null,
   "metadata": {
    "id": "aWh009q5opID"
   },
   "outputs": [],
   "source": []
  },
  {
   "cell_type": "code",
   "execution_count": null,
   "metadata": {
    "id": "HtTCGsqqopNO"
   },
   "outputs": [],
   "source": []
  },
  {
   "cell_type": "code",
   "execution_count": null,
   "metadata": {
    "id": "kCplEHUIopS3"
   },
   "outputs": [],
   "source": []
  },
  {
   "cell_type": "code",
   "execution_count": null,
   "metadata": {
    "id": "YHabImboopVh"
   },
   "outputs": [],
   "source": []
  },
  {
   "cell_type": "code",
   "execution_count": null,
   "metadata": {
    "id": "fWU01JJ6opXh"
   },
   "outputs": [],
   "source": []
  },
  {
   "cell_type": "code",
   "execution_count": null,
   "metadata": {
    "id": "RJBT9GuoZUsP"
   },
   "outputs": [],
   "source": []
  },
  {
   "cell_type": "code",
   "execution_count": null,
   "metadata": {
    "id": "WA50JiOiZUul"
   },
   "outputs": [],
   "source": []
  },
  {
   "cell_type": "code",
   "execution_count": null,
   "metadata": {
    "id": "1Yk8cKkSZUxW"
   },
   "outputs": [],
   "source": []
  },
  {
   "cell_type": "code",
   "execution_count": null,
   "metadata": {
    "id": "rIvuCJ4fZU2k"
   },
   "outputs": [],
   "source": []
  },
  {
   "cell_type": "code",
   "execution_count": null,
   "metadata": {
    "id": "4sxZZqzVDrpi"
   },
   "outputs": [],
   "source": []
  },
  {
   "cell_type": "code",
   "execution_count": null,
   "metadata": {
    "id": "ElpQ_l-LDrri"
   },
   "outputs": [],
   "source": []
  },
  {
   "cell_type": "code",
   "execution_count": null,
   "metadata": {
    "id": "PfK3YSj6Drtc"
   },
   "outputs": [],
   "source": []
  },
  {
   "cell_type": "code",
   "execution_count": null,
   "metadata": {
    "id": "kp0RHETXDrvX"
   },
   "outputs": [],
   "source": []
  },
  {
   "cell_type": "code",
   "execution_count": null,
   "metadata": {
    "id": "uWFi86b-DrxU"
   },
   "outputs": [],
   "source": []
  },
  {
   "cell_type": "code",
   "execution_count": null,
   "metadata": {
    "id": "kiuyKWqxDrzP"
   },
   "outputs": [],
   "source": []
  },
  {
   "cell_type": "code",
   "execution_count": null,
   "metadata": {
    "id": "saJNFTmvDr2I"
   },
   "outputs": [],
   "source": []
  },
  {
   "cell_type": "code",
   "execution_count": null,
   "metadata": {
    "id": "08My_DhJDr4O"
   },
   "outputs": [],
   "source": []
  },
  {
   "cell_type": "code",
   "execution_count": null,
   "metadata": {
    "id": "6qCIAlKLDr7R"
   },
   "outputs": [],
   "source": []
  }
 ],
 "metadata": {
  "accelerator": "GPU",
  "colab": {
   "gpuType": "T4",
   "provenance": []
  },
  "kernelspec": {
   "display_name": "Python 3",
   "name": "python3"
  },
  "language_info": {
   "name": "python"
  }
 },
 "nbformat": 4,
 "nbformat_minor": 0
}
